{
 "cells": [
  {
   "cell_type": "markdown",
   "metadata": {
    "slideshow": {
     "slide_type": "slide"
    }
   },
   "source": [
    "# Whirlwind Tour of Python\n",
    "## Usman Nazir\n",
    "\n",
    "#### sources: International Summer School on Deep Learning, CIIT Data Science Workshop"
   ]
  },
  {
   "cell_type": "markdown",
   "metadata": {
    "code_folding": [],
    "slideshow": {
     "slide_type": "slide"
    }
   },
   "source": [
    "# Introduction - How do I install?\n",
    "\n",
    "* Run Locally\n",
    "    1. Install Python\n",
    "        * Python\n",
    "        * Anaconda\n",
    "    2. Run...\n",
    "        * ... as a script\n",
    "        * ... in a Notebook\n",
    "    \n",
    "* Run Remotely\n",
    "    * Google Colab"
   ]
  },
  {
   "cell_type": "markdown",
   "metadata": {
    "slideshow": {
     "slide_type": "subslide"
    }
   },
   "source": [
    "## Introduction | Run Locally\n",
    "\n",
    "* If you are on Linux or Mac you should have Python availabile\n",
    "* For Windows users: https://www.python.org/downloads/windows/ (Latest Python 3)\n",
    "\n",
    "__...but either way you should really use Anaconda__\n",
    "\n",
    "* It's a Python distribution - manage not only Python packages, but also additional libraries / drivers\n",
    "* Get it from: https://www.anaconda.com/products/individual\n",
    "* `conda install` vs `pip install`"
   ]
  },
  {
   "cell_type": "markdown",
   "metadata": {
    "slideshow": {
     "slide_type": "subslide"
    }
   },
   "source": [
    "* Run as a script\n",
    "* or use Jupyter Notebook\n",
    "\n",
    "```bash\n",
    "pip install jupyter\n",
    "\n",
    "# or even better:\n",
    "conda install jupyter\n",
    "```"
   ]
  },
  {
   "cell_type": "markdown",
   "metadata": {
    "slideshow": {
     "slide_type": "subslide"
    }
   },
   "source": [
    "## Introduction | Run Remotely | Google Colab\n",
    "\n",
    "* Available at https://colab.research.google.com/\n",
    "* It's free! You only need a Google account to access\n",
    "* Offers different environment: CPU / GPU / TPU\n",
    "* Resources are not guaranteed\n",
    "* Avoid hogging resources - you can get lower priority in the future if requested resources are not actievely used!"
   ]
  },
  {
   "cell_type": "markdown",
   "metadata": {
    "slideshow": {
     "slide_type": "subslide"
    }
   },
   "source": [
    "* When running Google Colab you get your own virtualized environment - you can install packages\n",
    "* The environment will be cleaned upon exiting - make your life easier and install all additional dependencies in the first cell.\n",
    "\n",
    "* Example command to install Python's wget:\n",
    "\n",
    "    ```bash\n",
    "    !pip install wget\n",
    "    ```\n",
    "    Verify:\n",
    "\n",
    "    ```python\n",
    "    import wget\n",
    "    wget.__version__\n",
    "    ```"
   ]
  },
  {
   "cell_type": "markdown",
   "metadata": {
    "slideshow": {
     "slide_type": "slide"
    }
   },
   "source": [
    "# 🐍 Python"
   ]
  },
  {
   "cell_type": "markdown",
   "metadata": {
    "slideshow": {
     "slide_type": "subslide"
    }
   },
   "source": [
    "<center>\n",
    "    <img src=\"https://imgs.xkcd.com/comics/python.png\" alt=\"Python: https://xkcd.com/353/\" />\n",
    "    <div><i>Source: <a href=\"https://xkcd.com/353/\" target=\"_blank\">XKCD 353</a></i></div>\n",
    "</center>"
   ]
  },
  {
   "cell_type": "markdown",
   "metadata": {
    "slideshow": {
     "slide_type": "subslide"
    }
   },
   "source": [
    "Whirlwind tour of Python\n",
    "========================\n",
    "* Object Oriented\n",
    "* however #1 - no explicit encapsulation: \"After all, we're all consenting adults here.\"\n",
    "* however #2 - no class interface, only (multi)inheritance\n",
    "* multi-paradigm\n",
    "* interpreted\n",
    "* strongly typed\n",
    "* dynamically typed\n",
    "* 🦆 duck typing\n",
    "* garbage collector\n",
    "* designed for code clarity\n",
    "* object introspection\n",
    "* interactive mode (terminal / IPython)\n",
    "* interfaces to many popular programming languages:\n",
    "    * C++\n",
    "    * Java\n",
    "    * .NET\n",
    "    * and many others\n",
    "* has it's own package manager - pip & easy_install\n",
    "* before writing a library - check if it exists"
   ]
  },
  {
   "cell_type": "markdown",
   "metadata": {
    "slideshow": {
     "slide_type": "subslide"
    }
   },
   "source": [
    "# Python | Variables"
   ]
  },
  {
   "cell_type": "code",
   "execution_count": 13,
   "metadata": {
    "slideshow": {
     "slide_type": "fragment"
    }
   },
   "outputs": [
    {
     "data": {
      "text/plain": [
       "int"
      ]
     },
     "execution_count": 13,
     "metadata": {},
     "output_type": "execute_result"
    }
   ],
   "source": [
    "# Dynamically typed language: types are dynamically inferred. \n",
    "# This means, for example, that we can assign any kind of data to any variable:\n",
    "a = 1\n",
    "type(a)"
   ]
  },
  {
   "cell_type": "code",
   "execution_count": 14,
   "metadata": {
    "slideshow": {
     "slide_type": "fragment"
    }
   },
   "outputs": [
    {
     "data": {
      "text/plain": [
       "str"
      ]
     },
     "execution_count": 14,
     "metadata": {},
     "output_type": "execute_result"
    }
   ],
   "source": [
    "a = 'four'\n",
    "type(a) # We can ask the variable for its type"
   ]
  },
  {
   "cell_type": "markdown",
   "metadata": {
    "slideshow": {
     "slide_type": "notes"
    }
   },
   "source": [
    "What do you think about not declaring variable explicitly?"
   ]
  },
  {
   "cell_type": "code",
   "execution_count": 11,
   "metadata": {
    "slideshow": {
     "slide_type": "fragment"
    }
   },
   "outputs": [
    {
     "name": "stdout",
     "output_type": "stream",
     "text": [
      "10 10 10\n",
      "12 23 12.01\n"
     ]
    }
   ],
   "source": [
    "# Multiple assignments\n",
    "b = c = d = 10 \n",
    "print(b,c,d)\n",
    "e, f, g = 12,'23',12.01\n",
    "print(e,f,g)"
   ]
  },
  {
   "cell_type": "code",
   "execution_count": 12,
   "metadata": {
    "slideshow": {
     "slide_type": "fragment"
    }
   },
   "outputs": [],
   "source": [
    "# Please check the type of f and g ???"
   ]
  },
  {
   "cell_type": "markdown",
   "metadata": {
    "slideshow": {
     "slide_type": "subslide"
    }
   },
   "source": [
    "# Strings\n",
    "Now we will create some text strings, in a couple of ways."
   ]
  },
  {
   "cell_type": "code",
   "execution_count": 15,
   "metadata": {
    "slideshow": {
     "slide_type": "fragment"
    }
   },
   "outputs": [
    {
     "data": {
      "text/plain": [
       "'hello'"
      ]
     },
     "execution_count": 15,
     "metadata": {},
     "output_type": "execute_result"
    }
   ],
   "source": [
    "s = 'hello'\n",
    "s"
   ]
  },
  {
   "cell_type": "code",
   "execution_count": 16,
   "metadata": {
    "slideshow": {
     "slide_type": "fragment"
    }
   },
   "outputs": [],
   "source": [
    "s = \"hello\""
   ]
  },
  {
   "cell_type": "markdown",
   "metadata": {
    "slideshow": {
     "slide_type": "notes"
    }
   },
   "source": [
    "Notice that both single quotes and double quotes give us the same string. You can pick whichever style that you like. We can also create multi-line strings, with embedded newline characters."
   ]
  },
  {
   "cell_type": "markdown",
   "metadata": {
    "slideshow": {
     "slide_type": "subslide"
    }
   },
   "source": [
    "We can concatenate strings together, and we can also index specific characters in the string. Negative indices count from the end of the string."
   ]
  },
  {
   "cell_type": "code",
   "execution_count": 17,
   "metadata": {
    "slideshow": {
     "slide_type": "subslide"
    }
   },
   "outputs": [
    {
     "data": {
      "text/plain": [
       "'hello LUMS'"
      ]
     },
     "execution_count": 17,
     "metadata": {},
     "output_type": "execute_result"
    }
   ],
   "source": [
    "s = \"hello \" + 'LUMS'\n",
    "s"
   ]
  },
  {
   "cell_type": "code",
   "execution_count": 18,
   "metadata": {
    "slideshow": {
     "slide_type": "subslide"
    }
   },
   "outputs": [
    {
     "data": {
      "text/plain": [
       "'h'"
      ]
     },
     "execution_count": 18,
     "metadata": {},
     "output_type": "execute_result"
    }
   ],
   "source": [
    "s[0]"
   ]
  },
  {
   "cell_type": "code",
   "execution_count": 19,
   "metadata": {
    "slideshow": {
     "slide_type": "subslide"
    }
   },
   "outputs": [
    {
     "data": {
      "text/plain": [
       "'S'"
      ]
     },
     "execution_count": 19,
     "metadata": {},
     "output_type": "execute_result"
    }
   ],
   "source": [
    "s[-1]   # accessing the last element"
   ]
  },
  {
   "cell_type": "markdown",
   "metadata": {
    "slideshow": {
     "slide_type": "subslide"
    }
   },
   "source": [
    "# Slicing\n",
    "\n",
    "\n",
    "Slicing is used to extract a subsequence out of your sequence, and has a special notation in Python:\n",
    "\n",
    "    var[lower:upper:step]\n",
    "\n",
    "The element which has index equal to the lower bound is included in the slice, but the element which has index equal to the upper bound is excluded, so mathematically, the slice is `[lower, upper)`.  If you think of the indices as being between the elements, then this mentally works very nicely, as we'll see.\n",
    "\n",
    "The `step` argument is optional, and indicates the strides between elements in the subsequence, so a step of 2 takes every second element.\n",
    "\n",
    "As an example, let's extract elements 0 through 3:\n"
   ]
  },
  {
   "cell_type": "code",
   "execution_count": 21,
   "metadata": {
    "slideshow": {
     "slide_type": "fragment"
    }
   },
   "outputs": [
    {
     "data": {
      "text/plain": [
       "'hel'"
      ]
     },
     "execution_count": 21,
     "metadata": {},
     "output_type": "execute_result"
    }
   ],
   "source": [
    "s[0:3] # 1 is included but 3 is excluded "
   ]
  },
  {
   "cell_type": "code",
   "execution_count": 22,
   "metadata": {
    "slideshow": {
     "slide_type": "fragment"
    }
   },
   "outputs": [
    {
     "data": {
      "text/plain": [
       "'hel'"
      ]
     },
     "execution_count": 22,
     "metadata": {},
     "output_type": "execute_result"
    }
   ],
   "source": [
    "s[:3]"
   ]
  },
  {
   "cell_type": "code",
   "execution_count": 23,
   "metadata": {
    "slideshow": {
     "slide_type": "fragment"
    }
   },
   "outputs": [
    {
     "data": {
      "text/plain": [
       "'UMS'"
      ]
     },
     "execution_count": 23,
     "metadata": {},
     "output_type": "execute_result"
    }
   ],
   "source": [
    "s[-3:]"
   ]
  },
  {
   "cell_type": "code",
   "execution_count": 25,
   "metadata": {
    "slideshow": {
     "slide_type": "fragment"
    }
   },
   "outputs": [
    {
     "data": {
      "text/plain": [
       "'hello L'"
      ]
     },
     "execution_count": 25,
     "metadata": {},
     "output_type": "execute_result"
    }
   ],
   "source": [
    "s[:-3]"
   ]
  },
  {
   "cell_type": "code",
   "execution_count": 26,
   "metadata": {
    "slideshow": {
     "slide_type": "fragment"
    }
   },
   "outputs": [
    {
     "data": {
      "text/plain": [
       "10"
      ]
     },
     "execution_count": 26,
     "metadata": {},
     "output_type": "execute_result"
    }
   ],
   "source": [
    "len(s)"
   ]
  },
  {
   "cell_type": "markdown",
   "metadata": {
    "slideshow": {
     "slide_type": "subslide"
    }
   },
   "source": [
    "### String Operations"
   ]
  },
  {
   "cell_type": "code",
   "execution_count": 27,
   "metadata": {
    "slideshow": {
     "slide_type": "fragment"
    }
   },
   "outputs": [
    {
     "data": {
      "text/plain": [
       "['hello', 'LUMS']"
      ]
     },
     "execution_count": 27,
     "metadata": {},
     "output_type": "execute_result"
    }
   ],
   "source": [
    "s.split()"
   ]
  },
  {
   "cell_type": "code",
   "execution_count": 29,
   "metadata": {
    "slideshow": {
     "slide_type": "fragment"
    }
   },
   "outputs": [
    {
     "data": {
      "text/plain": [
       "'Welcome LUMS'"
      ]
     },
     "execution_count": 29,
     "metadata": {},
     "output_type": "execute_result"
    }
   ],
   "source": [
    "s.replace(\"hello\", \"Welcome\")"
   ]
  },
  {
   "cell_type": "code",
   "execution_count": 30,
   "metadata": {
    "slideshow": {
     "slide_type": "fragment"
    }
   },
   "outputs": [
    {
     "data": {
      "text/plain": [
       "'HELLO LUMS'"
      ]
     },
     "execution_count": 30,
     "metadata": {},
     "output_type": "execute_result"
    }
   ],
   "source": [
    "s.upper()"
   ]
  },
  {
   "cell_type": "code",
   "execution_count": 31,
   "metadata": {
    "slideshow": {
     "slide_type": "fragment"
    }
   },
   "outputs": [
    {
     "data": {
      "text/plain": [
       "'1'"
      ]
     },
     "execution_count": 31,
     "metadata": {},
     "output_type": "execute_result"
    }
   ],
   "source": [
    "str(1) # Number/String Conversions"
   ]
  },
  {
   "cell_type": "code",
   "execution_count": 33,
   "metadata": {
    "slideshow": {
     "slide_type": "fragment"
    }
   },
   "outputs": [],
   "source": [
    "Name = 'Data Science in Practice'\n",
    "# Write a command to extract 'Science in Practice'"
   ]
  },
  {
   "cell_type": "markdown",
   "metadata": {
    "slideshow": {
     "slide_type": "subslide"
    }
   },
   "source": [
    "Explore the following funciton of strings ???\n",
    "\n",
    "- lower()\n",
    "- capitalize()\n",
    "- endswith()\n",
    "- join()\n",
    "- strip()\n",
    "\n",
    "use e.g. s.endswith?"
   ]
  },
  {
   "cell_type": "code",
   "execution_count": null,
   "metadata": {
    "slideshow": {
     "slide_type": "fragment"
    }
   },
   "outputs": [],
   "source": []
  },
  {
   "cell_type": "code",
   "execution_count": 35,
   "metadata": {
    "slideshow": {
     "slide_type": "subslide"
    }
   },
   "outputs": [
    {
     "data": {
      "text/plain": [
       "['__add__',\n",
       " '__class__',\n",
       " '__contains__',\n",
       " '__delattr__',\n",
       " '__dir__',\n",
       " '__doc__',\n",
       " '__eq__',\n",
       " '__format__',\n",
       " '__ge__',\n",
       " '__getattribute__',\n",
       " '__getitem__',\n",
       " '__getnewargs__',\n",
       " '__gt__',\n",
       " '__hash__',\n",
       " '__init__',\n",
       " '__init_subclass__',\n",
       " '__iter__',\n",
       " '__le__',\n",
       " '__len__',\n",
       " '__lt__',\n",
       " '__mod__',\n",
       " '__mul__',\n",
       " '__ne__',\n",
       " '__new__',\n",
       " '__reduce__',\n",
       " '__reduce_ex__',\n",
       " '__repr__',\n",
       " '__rmod__',\n",
       " '__rmul__',\n",
       " '__setattr__',\n",
       " '__sizeof__',\n",
       " '__str__',\n",
       " '__subclasshook__',\n",
       " 'capitalize',\n",
       " 'casefold',\n",
       " 'center',\n",
       " 'count',\n",
       " 'encode',\n",
       " 'endswith',\n",
       " 'expandtabs',\n",
       " 'find',\n",
       " 'format',\n",
       " 'format_map',\n",
       " 'index',\n",
       " 'isalnum',\n",
       " 'isalpha',\n",
       " 'isdecimal',\n",
       " 'isdigit',\n",
       " 'isidentifier',\n",
       " 'islower',\n",
       " 'isnumeric',\n",
       " 'isprintable',\n",
       " 'isspace',\n",
       " 'istitle',\n",
       " 'isupper',\n",
       " 'join',\n",
       " 'ljust',\n",
       " 'lower',\n",
       " 'lstrip',\n",
       " 'maketrans',\n",
       " 'partition',\n",
       " 'replace',\n",
       " 'rfind',\n",
       " 'rindex',\n",
       " 'rjust',\n",
       " 'rpartition',\n",
       " 'rsplit',\n",
       " 'rstrip',\n",
       " 'split',\n",
       " 'splitlines',\n",
       " 'startswith',\n",
       " 'strip',\n",
       " 'swapcase',\n",
       " 'title',\n",
       " 'translate',\n",
       " 'upper',\n",
       " 'zfill']"
      ]
     },
     "execution_count": 35,
     "metadata": {},
     "output_type": "execute_result"
    }
   ],
   "source": [
    "# There are many other methods on strings, and Python's dir() function will list all the methods on an object:\n",
    "dir(s)"
   ]
  },
  {
   "cell_type": "markdown",
   "metadata": {
    "slideshow": {
     "slide_type": "subslide"
    }
   },
   "source": [
    "## Python | Data Structures | List\n",
    "\n",
    "Lists\n",
    "----------\n",
    "\n",
    "List in Python are an ordered sequence of any kind of object, and are one of the workhorse data structures.\n",
    "\n",
    "List Objects\n",
    "------------\n",
    "\n",
    "You create a list by putting square brackets around a comma-separated list of other Python items:"
   ]
  },
  {
   "cell_type": "code",
   "execution_count": 36,
   "metadata": {
    "slideshow": {
     "slide_type": "fragment"
    }
   },
   "outputs": [
    {
     "name": "stdout",
     "output_type": "stream",
     "text": [
      "[1, 2.0, 3, 'LUMS']\n"
     ]
    }
   ],
   "source": [
    "lst = [1, 2.0, 3, 'LUMS']\n",
    "print(lst)"
   ]
  },
  {
   "cell_type": "code",
   "execution_count": 37,
   "metadata": {
    "slideshow": {
     "slide_type": "fragment"
    }
   },
   "outputs": [
    {
     "data": {
      "text/plain": [
       "[1, 2.0, 3, 'LUMS', 1, 2.0, 3, 'LUMS', 1, 2.0, 3, 'LUMS']"
      ]
     },
     "execution_count": 37,
     "metadata": {},
     "output_type": "execute_result"
    }
   ],
   "source": [
    "lst * 3 "
   ]
  },
  {
   "cell_type": "code",
   "execution_count": 38,
   "metadata": {
    "slideshow": {
     "slide_type": "fragment"
    }
   },
   "outputs": [
    {
     "data": {
      "text/plain": [
       "[1, 2.0, 3, 'LUMS', 1, 2.0, 3, 'LUMS']"
      ]
     },
     "execution_count": 38,
     "metadata": {},
     "output_type": "execute_result"
    }
   ],
   "source": [
    "lst + lst"
   ]
  },
  {
   "cell_type": "code",
   "execution_count": 39,
   "metadata": {
    "slideshow": {
     "slide_type": "fragment"
    }
   },
   "outputs": [
    {
     "data": {
      "text/plain": [
       "1"
      ]
     },
     "execution_count": 39,
     "metadata": {},
     "output_type": "execute_result"
    }
   ],
   "source": [
    "lst[0]"
   ]
  },
  {
   "cell_type": "code",
   "execution_count": 40,
   "metadata": {
    "slideshow": {
     "slide_type": "fragment"
    }
   },
   "outputs": [
    {
     "data": {
      "text/plain": [
       "'LUMS'"
      ]
     },
     "execution_count": 40,
     "metadata": {},
     "output_type": "execute_result"
    }
   ],
   "source": [
    "lst[-1]"
   ]
  },
  {
   "cell_type": "code",
   "execution_count": 41,
   "metadata": {
    "slideshow": {
     "slide_type": "fragment"
    }
   },
   "outputs": [
    {
     "data": {
      "text/plain": [
       "4"
      ]
     },
     "execution_count": 41,
     "metadata": {},
     "output_type": "execute_result"
    }
   ],
   "source": [
    "len(lst)"
   ]
  },
  {
   "cell_type": "code",
   "execution_count": 42,
   "metadata": {
    "slideshow": {
     "slide_type": "fragment"
    }
   },
   "outputs": [
    {
     "data": {
      "text/plain": [
       "list"
      ]
     },
     "execution_count": 42,
     "metadata": {},
     "output_type": "execute_result"
    }
   ],
   "source": [
    "type(lst)"
   ]
  },
  {
   "cell_type": "code",
   "execution_count": 44,
   "metadata": {
    "slideshow": {
     "slide_type": "fragment"
    }
   },
   "outputs": [
    {
     "name": "stdout",
     "output_type": "stream",
     "text": [
      "[0, 0, 0, 0, 0, 0, 0, 0, 0, 0]\n"
     ]
    }
   ],
   "source": [
    "lst = [0]*10\n",
    "print(lst)"
   ]
  },
  {
   "cell_type": "markdown",
   "metadata": {
    "slideshow": {
     "slide_type": "subslide"
    }
   },
   "source": [
    "## Range\n",
    "\n",
    "The `range()` built-in function creates a list of integers, and is used a lot in Python because the `for` loop operates over lists.\n",
    "\n",
    "The simplest way to use the range function is to just specify the number of elements or, in another way of thinking about it, specify the stop value:"
   ]
  },
  {
   "cell_type": "code",
   "execution_count": 49,
   "metadata": {
    "slideshow": {
     "slide_type": "fragment"
    }
   },
   "outputs": [
    {
     "data": {
      "text/plain": [
       "[0, 1, 2, 3, 4, 5, 6, 7, 8, 9]"
      ]
     },
     "execution_count": 49,
     "metadata": {},
     "output_type": "execute_result"
    }
   ],
   "source": [
    "my_list = list(range(10))\n",
    "my_list"
   ]
  },
  {
   "cell_type": "code",
   "execution_count": 52,
   "metadata": {
    "slideshow": {
     "slide_type": "fragment"
    }
   },
   "outputs": [
    {
     "data": {
      "text/plain": [
       "[3, 5, 7, 9]"
      ]
     },
     "execution_count": 52,
     "metadata": {},
     "output_type": "execute_result"
    }
   ],
   "source": [
    "my_list = list(range(3,10,2))\n",
    "my_list"
   ]
  },
  {
   "cell_type": "code",
   "execution_count": 53,
   "metadata": {
    "slideshow": {
     "slide_type": "fragment"
    }
   },
   "outputs": [],
   "source": [
    "# how we can crate a list of integers [2, 4, 6, 8] using range  ?"
   ]
  },
  {
   "cell_type": "code",
   "execution_count": 57,
   "metadata": {
    "slideshow": {
     "slide_type": "fragment"
    }
   },
   "outputs": [
    {
     "data": {
      "text/plain": [
       "[3, 5, 7, 9]"
      ]
     },
     "execution_count": 57,
     "metadata": {},
     "output_type": "execute_result"
    }
   ],
   "source": [
    "my_list[2]\n",
    "my_list[-1]\n",
    "my_list[1:3]\n",
    "my_list[2:]\n",
    "my_list[:]"
   ]
  },
  {
   "cell_type": "code",
   "execution_count": 62,
   "metadata": {
    "slideshow": {
     "slide_type": "fragment"
    }
   },
   "outputs": [
    {
     "name": "stdout",
     "output_type": "stream",
     "text": [
      "[[1, 2, 3, 4, 5], [2, 4, 6, 8, 10], [3, 6, 9, 12, 15], [4, 8, 12, 16, 20]]\n",
      "[[2, 4, 6, 8, 10], [3, 6, 9, 12, 15]]\n",
      "[[3, 6, 9, 12, 15]]\n",
      "[4, 6]\n",
      "[6, 9]\n"
     ]
    }
   ],
   "source": [
    "#2D - we can create a 2d list\n",
    "r = 4\n",
    "c = 5\n",
    "list2d = [[0]*c for _ in range(r)]  # this is called list comprehension\n",
    "#print(list2d[0])\n",
    "#print(list2d[0][3])\n",
    "\n",
    "a = []\n",
    "for y in range(r):\n",
    "    a.append([])\n",
    "    for x in range(c):\n",
    "        a[-1].append((x+1)*(y+1)) # we can also pre-pend elements, but it's an expensive operation\n",
    "print(a)\n",
    "print(a[1:3])\n",
    "print(a[1:3][1:3]) # won't work :(\n",
    "# instead, you have to access indices in first dim like this:\n",
    "print(a[1][1:3]) \n",
    "print(a[2][1:3]) "
   ]
  },
  {
   "cell_type": "code",
   "execution_count": 72,
   "metadata": {
    "slideshow": {
     "slide_type": "fragment"
    }
   },
   "outputs": [
    {
     "data": {
      "text/plain": [
       "[1, 2.0, 3, 'LUMS', 'Class']"
      ]
     },
     "execution_count": 72,
     "metadata": {},
     "output_type": "execute_result"
    }
   ],
   "source": [
    "#### Operations on Lists\n",
    "### We've seen the generic length function in Python and it works on any kind of sequence, including lists:\n",
    "lst = [1, 2.0, 3, 'LUMS']\n",
    "lst.append('Class')\n",
    "lst"
   ]
  },
  {
   "cell_type": "code",
   "execution_count": 68,
   "metadata": {
    "slideshow": {
     "slide_type": "fragment"
    }
   },
   "outputs": [
    {
     "data": {
      "text/plain": [
       "[1, 3, 'LUMS', 'Class']"
      ]
     },
     "execution_count": 68,
     "metadata": {},
     "output_type": "execute_result"
    }
   ],
   "source": [
    "del lst[1]\n",
    "lst"
   ]
  },
  {
   "cell_type": "code",
   "execution_count": 69,
   "metadata": {
    "slideshow": {
     "slide_type": "fragment"
    }
   },
   "outputs": [
    {
     "data": {
      "text/plain": [
       "True"
      ]
     },
     "execution_count": 69,
     "metadata": {},
     "output_type": "execute_result"
    }
   ],
   "source": [
    "1 in lst"
   ]
  },
  {
   "cell_type": "code",
   "execution_count": 70,
   "metadata": {
    "slideshow": {
     "slide_type": "fragment"
    }
   },
   "outputs": [
    {
     "data": {
      "text/plain": [
       "False"
      ]
     },
     "execution_count": 70,
     "metadata": {},
     "output_type": "execute_result"
    }
   ],
   "source": [
    "2 in lst"
   ]
  },
  {
   "cell_type": "markdown",
   "metadata": {
    "slideshow": {
     "slide_type": "subslide"
    }
   },
   "source": [
    "- how we can show the method of lst and explore some of these\n",
    "    - 'append'\n",
    "    - 'count'\n",
    "    - 'extend'\n",
    "    - 'index'\n",
    "    - 'insert'\n",
    "    - 'pop'\n",
    "    - 'remove'\n",
    "    - 'reverse'\n",
    "    - 'sort'"
   ]
  },
  {
   "cell_type": "markdown",
   "metadata": {
    "slideshow": {
     "slide_type": "subslide"
    }
   },
   "source": [
    "## Set\n",
    "### Python also provides the `set` data structure, which can be created using curly brackets."
   ]
  },
  {
   "cell_type": "code",
   "execution_count": 73,
   "metadata": {
    "slideshow": {
     "slide_type": "fragment"
    }
   },
   "outputs": [
    {
     "data": {
      "text/plain": [
       "{1, 2, 3, 4}"
      ]
     },
     "execution_count": 73,
     "metadata": {},
     "output_type": "execute_result"
    }
   ],
   "source": [
    "a = {1, 2, 3, 4}\n",
    "a"
   ]
  },
  {
   "cell_type": "code",
   "execution_count": 74,
   "metadata": {
    "slideshow": {
     "slide_type": "fragment"
    }
   },
   "outputs": [
    {
     "data": {
      "text/plain": [
       "{2, 3, 4, 5}"
      ]
     },
     "execution_count": 74,
     "metadata": {},
     "output_type": "execute_result"
    }
   ],
   "source": [
    "b = {2, 3, 4, 5}\n",
    "b"
   ]
  },
  {
   "cell_type": "code",
   "execution_count": 76,
   "metadata": {
    "slideshow": {
     "slide_type": "fragment"
    }
   },
   "outputs": [
    {
     "data": {
      "text/plain": [
       "{1, 2, 3, 4, 5}"
      ]
     },
     "execution_count": 76,
     "metadata": {},
     "output_type": "execute_result"
    }
   ],
   "source": [
    "b.add(1)\n",
    "b"
   ]
  },
  {
   "cell_type": "code",
   "execution_count": 77,
   "metadata": {
    "slideshow": {
     "slide_type": "fragment"
    }
   },
   "outputs": [
    {
     "data": {
      "text/plain": [
       "{1, 2, 3, 4}"
      ]
     },
     "execution_count": 77,
     "metadata": {},
     "output_type": "execute_result"
    }
   ],
   "source": [
    "a & b  # Intersection"
   ]
  },
  {
   "cell_type": "code",
   "execution_count": 78,
   "metadata": {
    "slideshow": {
     "slide_type": "fragment"
    }
   },
   "outputs": [
    {
     "data": {
      "text/plain": [
       "{1, 2, 3, 4, 5}"
      ]
     },
     "execution_count": 78,
     "metadata": {},
     "output_type": "execute_result"
    }
   ],
   "source": [
    "a | b # Union"
   ]
  },
  {
   "cell_type": "code",
   "execution_count": 79,
   "metadata": {
    "slideshow": {
     "slide_type": "fragment"
    }
   },
   "outputs": [
    {
     "data": {
      "text/plain": [
       "{5}"
      ]
     },
     "execution_count": 79,
     "metadata": {},
     "output_type": "execute_result"
    }
   ],
   "source": [
    "a ^ b # symmetric difference"
   ]
  },
  {
   "cell_type": "code",
   "execution_count": 80,
   "metadata": {
    "slideshow": {
     "slide_type": "fragment"
    }
   },
   "outputs": [
    {
     "data": {
      "text/plain": [
       "set()"
      ]
     },
     "execution_count": 80,
     "metadata": {},
     "output_type": "execute_result"
    }
   ],
   "source": [
    "a - b"
   ]
  },
  {
   "cell_type": "markdown",
   "metadata": {
    "slideshow": {
     "slide_type": "subslide"
    }
   },
   "source": [
    "## Python | Data Structures | Dictionaries\n",
    "\n",
    "If you're familiar with the computer science \"hash\" or \"map\" data structures, a dictionary is essentially the Python equivalent of those.\n",
    "\n",
    "For those unfamiliar with Python dictionaries, we can use an actual dictionary as a mental model.  In a dictionary you have words, and those words have definitions that are associated with them. You might have multiple definitions, but they are all associated with one word's entry in the dictionary.\n",
    "\n",
    "This maps to the data structure very well: each entry is a key-value pair, where the keys are the words, and the values are the definitions.  If there are multiple definitions, you might instead have a list of definitions instead of a single definition for the value, but the idea is the same.\n",
    "\n",
    "So in Python we can create an empty dictionary with a pair of braces (curly brackets):"
   ]
  },
  {
   "cell_type": "code",
   "execution_count": 4,
   "metadata": {
    "slideshow": {
     "slide_type": "fragment"
    }
   },
   "outputs": [
    {
     "data": {
      "text/plain": [
       "{'dogs': 5, 'cats': 4}"
      ]
     },
     "execution_count": 4,
     "metadata": {},
     "output_type": "execute_result"
    }
   ],
   "source": [
    "pets = {'dogs':5, 'cats':4}\n",
    "pets"
   ]
  },
  {
   "cell_type": "code",
   "execution_count": 83,
   "metadata": {
    "slideshow": {
     "slide_type": "fragment"
    }
   },
   "outputs": [
    {
     "data": {
      "text/plain": [
       "2"
      ]
     },
     "execution_count": 83,
     "metadata": {},
     "output_type": "execute_result"
    }
   ],
   "source": [
    "len(pets)"
   ]
  },
  {
   "cell_type": "code",
   "execution_count": 92,
   "metadata": {
    "slideshow": {
     "slide_type": "fragment"
    }
   },
   "outputs": [
    {
     "data": {
      "text/plain": [
       "7"
      ]
     },
     "execution_count": 92,
     "metadata": {},
     "output_type": "execute_result"
    }
   ],
   "source": [
    "pets['dogs']"
   ]
  },
  {
   "cell_type": "code",
   "execution_count": 93,
   "metadata": {
    "slideshow": {
     "slide_type": "fragment"
    }
   },
   "outputs": [
    {
     "data": {
      "text/plain": [
       "{'dogs': 9, 'cats': 4}"
      ]
     },
     "execution_count": 93,
     "metadata": {},
     "output_type": "execute_result"
    }
   ],
   "source": [
    "pets['dogs'] += 2\n",
    "pets"
   ]
  },
  {
   "cell_type": "code",
   "execution_count": 94,
   "metadata": {
    "slideshow": {
     "slide_type": "fragment"
    }
   },
   "outputs": [
    {
     "data": {
      "text/plain": [
       "{'dogs': 9, 'cats': 4, 'fox': 3}"
      ]
     },
     "execution_count": 94,
     "metadata": {},
     "output_type": "execute_result"
    }
   ],
   "source": [
    "pets['fox'] = 3\n",
    "pets"
   ]
  },
  {
   "cell_type": "code",
   "execution_count": 96,
   "metadata": {
    "slideshow": {
     "slide_type": "fragment"
    }
   },
   "outputs": [
    {
     "data": {
      "text/plain": [
       "dict_keys(['dogs', 'cats', 'fox'])"
      ]
     },
     "execution_count": 96,
     "metadata": {},
     "output_type": "execute_result"
    }
   ],
   "source": [
    "# You can ask for the list of keys, of key-value pairs, or just the values.\n",
    "pets.keys()"
   ]
  },
  {
   "cell_type": "code",
   "execution_count": 97,
   "metadata": {
    "slideshow": {
     "slide_type": "fragment"
    }
   },
   "outputs": [
    {
     "data": {
      "text/plain": [
       "dict_items([('dogs', 9), ('cats', 4), ('fox', 3)])"
      ]
     },
     "execution_count": 97,
     "metadata": {},
     "output_type": "execute_result"
    }
   ],
   "source": [
    "pets.items()"
   ]
  },
  {
   "cell_type": "code",
   "execution_count": 88,
   "metadata": {
    "slideshow": {
     "slide_type": "fragment"
    }
   },
   "outputs": [
    {
     "data": {
      "text/plain": [
       "{0: 0, 2: 4, 4: 16}"
      ]
     },
     "execution_count": 88,
     "metadata": {},
     "output_type": "execute_result"
    }
   ],
   "source": [
    "d = {}\n",
    "d = {'a':1 , 'b':2, (0,0): 123}\n",
    "\n",
    "f = {key: key**2 for key in range(5) if key%2==0}\n",
    "f"
   ]
  },
  {
   "cell_type": "code",
   "execution_count": 89,
   "metadata": {
    "slideshow": {
     "slide_type": "fragment"
    }
   },
   "outputs": [
    {
     "data": {
      "text/plain": [
       "1"
      ]
     },
     "execution_count": 89,
     "metadata": {},
     "output_type": "execute_result"
    }
   ],
   "source": [
    "d['a']"
   ]
  },
  {
   "cell_type": "code",
   "execution_count": 90,
   "metadata": {
    "slideshow": {
     "slide_type": "fragment"
    }
   },
   "outputs": [
    {
     "name": "stdout",
     "output_type": "stream",
     "text": [
      "a 1\n",
      "b 2\n",
      "(0, 0) 123\n"
     ]
    }
   ],
   "source": [
    "for key, value in d.items():\n",
    "    print(key, value)"
   ]
  },
  {
   "cell_type": "markdown",
   "metadata": {
    "slideshow": {
     "slide_type": "fragment"
    }
   },
   "source": [
    "Can we have a dictionary inside a dictionary?"
   ]
  },
  {
   "cell_type": "markdown",
   "metadata": {
    "slideshow": {
     "slide_type": "subslide"
    }
   },
   "source": [
    "## Python | Operators\n"
   ]
  },
  {
   "cell_type": "code",
   "execution_count": 106,
   "metadata": {
    "slideshow": {
     "slide_type": "fragment"
    }
   },
   "outputs": [
    {
     "name": "stdout",
     "output_type": "stream",
     "text": [
      "9\n",
      "1\n"
     ]
    }
   ],
   "source": [
    "print(3**2)\n",
    "print(3//2) "
   ]
  },
  {
   "cell_type": "markdown",
   "metadata": {
    "slideshow": {
     "slide_type": "slide"
    }
   },
   "source": [
    "# NumPy"
   ]
  },
  {
   "cell_type": "markdown",
   "metadata": {
    "slideshow": {
     "slide_type": "subslide"
    }
   },
   "source": [
    "## NumPy\n",
    "\n",
    "* linear algegra library for python\n",
    "* main building block for data-oriented libaries\n",
    "* It's fast\n",
    "* Even faster if you install it using Anaconda\n",
    "\n",
    "```bash\n",
    "pip install numpy\n",
    "# or\n",
    "conda install -y numpy"
   ]
  },
  {
   "cell_type": "code",
   "execution_count": 126,
   "metadata": {
    "slideshow": {
     "slide_type": "fragment"
    }
   },
   "outputs": [],
   "source": [
    "import numpy as np"
   ]
  },
  {
   "cell_type": "markdown",
   "metadata": {
    "slideshow": {
     "slide_type": "subslide"
    }
   },
   "source": [
    "## NumPy | Array vs Python List\n",
    "\n",
    "<center>\n",
    "    <img src=\"https://jakevdp.github.io/PythonDataScienceHandbook/figures/array_vs_list.png\" />\n",
    "    <i>Source: <a href=\"https://jakevdp.github.io/PythonDataScienceHandbook/02.01-understanding-data-types.html\" target=\"_blank\">jakevdp.github.io/PythonDataScienceHandbook/02.01-understanding-data-types.html</a></i>\n",
    "</center>"
   ]
  },
  {
   "cell_type": "markdown",
   "metadata": {
    "slideshow": {
     "slide_type": "subslide"
    }
   },
   "source": [
    "# Python | Data Structures | NumPy Array\n",
    "\n",
    "By now, we're pretty use to lists being the workhorse sequential data structure in Python. It's great for many things, but it turns out that another data structure, the NumPy array, provides a different set of functionality that is really useful -- especially for numeric computations.\n",
    "\n",
    "Here we start with a list, and illustrate the difference in syntax for mathematical operations on a list and an array.\n",
    "\n",
    "Imagine you want to add 1 to every element in a sequence. Here is a comparison between doing this with an array and a list.\n",
    "\n",
    "Let's look at a list"
   ]
  },
  {
   "cell_type": "code",
   "execution_count": 117,
   "metadata": {
    "slideshow": {
     "slide_type": "fragment"
    }
   },
   "outputs": [
    {
     "ename": "TypeError",
     "evalue": "can only concatenate list (not \"int\") to list",
     "output_type": "error",
     "traceback": [
      "\u001b[0;31m---------------------------------------------------------------------------\u001b[0m",
      "\u001b[0;31mTypeError\u001b[0m                                 Traceback (most recent call last)",
      "\u001b[0;32m<ipython-input-117-5a4df28af5ca>\u001b[0m in \u001b[0;36m<module>\u001b[0;34m\u001b[0m\n\u001b[1;32m      1\u001b[0m \u001b[0ma\u001b[0m \u001b[0;34m=\u001b[0m \u001b[0;34m[\u001b[0m\u001b[0;36m1\u001b[0m\u001b[0;34m,\u001b[0m \u001b[0;36m2\u001b[0m\u001b[0;34m,\u001b[0m \u001b[0;36m3\u001b[0m\u001b[0;34m,\u001b[0m \u001b[0;36m4\u001b[0m\u001b[0;34m]\u001b[0m\u001b[0;34m\u001b[0m\u001b[0;34m\u001b[0m\u001b[0m\n\u001b[1;32m      2\u001b[0m \u001b[0;31m#If you add 1 to a list, you get an error because you can't add list and int types.\u001b[0m\u001b[0;34m\u001b[0m\u001b[0;34m\u001b[0m\u001b[0;34m\u001b[0m\u001b[0m\n\u001b[0;32m----> 3\u001b[0;31m \u001b[0ma\u001b[0m\u001b[0;34m+\u001b[0m\u001b[0;36m1\u001b[0m\u001b[0;34m\u001b[0m\u001b[0;34m\u001b[0m\u001b[0m\n\u001b[0m",
      "\u001b[0;31mTypeError\u001b[0m: can only concatenate list (not \"int\") to list"
     ]
    }
   ],
   "source": [
    "a = [1, 2, 3, 4]\n",
    "#If you add 1 to a list, you get an error because you can't add list and int types.\n",
    "a+1"
   ]
  },
  {
   "cell_type": "code",
   "execution_count": 118,
   "metadata": {
    "slideshow": {
     "slide_type": "fragment"
    }
   },
   "outputs": [
    {
     "data": {
      "text/plain": [
       "[2, 3, 4, 5]"
      ]
     },
     "execution_count": 118,
     "metadata": {},
     "output_type": "execute_result"
    }
   ],
   "source": [
    "# This will work, but it is a bit cryptic to the uninitiated:\n",
    "[val + 1 for val in a]"
   ]
  },
  {
   "cell_type": "code",
   "execution_count": 127,
   "metadata": {
    "slideshow": {
     "slide_type": "fragment"
    }
   },
   "outputs": [
    {
     "data": {
      "text/plain": [
       "array([2, 3, 4, 5])"
      ]
     },
     "execution_count": 127,
     "metadata": {},
     "output_type": "execute_result"
    }
   ],
   "source": [
    "# But if we convert `a` to a NumPy `array`, then it does work:\n",
    "a = np.array(a)\n",
    "a+1\n",
    "\n",
    "# This is the first thing that the array provides: when you perform a mathematical operation on an array, \n",
    "# the operation is performed on every element of the array.  \n",
    "# So the result is 1+1 is 2, 2+1 is 3, 3+1 is 4 and 4+1 is 5.\n"
   ]
  },
  {
   "cell_type": "markdown",
   "metadata": {
    "slideshow": {
     "slide_type": "subslide"
    }
   },
   "source": [
    "# Operations on two Arrays\n",
    "------------------------\n",
    "\n",
    "NumPy always carries out element-by-element operations when operating on two arrays.  Here are several examples with `+`,`*`, and `**` operators.\n",
    "\n",
    "Let's create another array `b`:"
   ]
  },
  {
   "cell_type": "code",
   "execution_count": 128,
   "metadata": {
    "slideshow": {
     "slide_type": "fragment"
    }
   },
   "outputs": [],
   "source": [
    "b = np.array([2, 3, 4, 5])"
   ]
  },
  {
   "cell_type": "code",
   "execution_count": 131,
   "metadata": {
    "slideshow": {
     "slide_type": "fragment"
    }
   },
   "outputs": [
    {
     "data": {
      "text/plain": [
       "array([3, 5, 7, 9])"
      ]
     },
     "execution_count": 131,
     "metadata": {},
     "output_type": "execute_result"
    }
   ],
   "source": [
    "# They both have 4 elements.  If we add a and b:\n",
    "# then the operation is performed element-by-element: 1+2 is 3, 2+3 is 5, 3+4 is 7 and 4+5 is 9.\n",
    "a+b"
   ]
  },
  {
   "cell_type": "code",
   "execution_count": 132,
   "metadata": {
    "slideshow": {
     "slide_type": "fragment"
    }
   },
   "outputs": [
    {
     "data": {
      "text/plain": [
       "array([ 2,  6, 12, 20])"
      ]
     },
     "execution_count": 132,
     "metadata": {},
     "output_type": "execute_result"
    }
   ],
   "source": [
    "# This doesn't just work for addition.  You can multiply:\n",
    "a*b"
   ]
  },
  {
   "cell_type": "code",
   "execution_count": 133,
   "metadata": {
    "slideshow": {
     "slide_type": "fragment"
    }
   },
   "outputs": [
    {
     "data": {
      "text/plain": [
       "array([   1,    8,   81, 1024])"
      ]
     },
     "execution_count": 133,
     "metadata": {},
     "output_type": "execute_result"
    }
   ],
   "source": [
    "# You can exponentiate:\n",
    "a**b"
   ]
  },
  {
   "cell_type": "markdown",
   "metadata": {
    "slideshow": {
     "slide_type": "fragment"
    }
   },
   "source": [
    "All operations are performed element-by-element."
   ]
  },
  {
   "cell_type": "markdown",
   "metadata": {
    "slideshow": {
     "slide_type": "subslide"
    }
   },
   "source": [
    "## NumPy | Creating Arrays"
   ]
  },
  {
   "cell_type": "code",
   "execution_count": 134,
   "metadata": {
    "slideshow": {
     "slide_type": "fragment"
    }
   },
   "outputs": [
    {
     "data": {
      "text/plain": [
       "array([[ 1.08087037, -0.76176349,  0.86504572, -0.59883839],\n",
       "       [ 2.07755951, -0.08504213,  0.40034572, -0.9767852 ],\n",
       "       [-1.85686917,  0.75452808, -0.53391683, -0.51560202],\n",
       "       [-1.40520258, -1.33921143, -0.10856839,  0.48210568]])"
      ]
     },
     "execution_count": 134,
     "metadata": {},
     "output_type": "execute_result"
    }
   ],
   "source": [
    "import numpy as np\n",
    "\n",
    "my_list = [0,1,2,3,4]\n",
    "np.array(my_list)\n",
    "\n",
    "my_mat = [[1,2,3],[4,5,6],[7,8,9]]\n",
    "np.array(my_mat)\n",
    "\n",
    "np.arange(0, 10).reshape(2,5)\n",
    "\n",
    "np.zeros((3,3))\n",
    "\n",
    "np.ones((3,3))\n",
    "\n",
    "np.linspace(0,10,101)\n",
    "\n",
    "np.eye(4) # NxN as identity matrix must be square,\n",
    "\n",
    "np.random.rand(2) # will populate given range with a population of uniform distribution over 0 to 1\n",
    "np.random.rand(2,2) # weirdly enough, for more dimensions we do not pass tuple, but instead we just add another argument\n",
    "\n",
    "np.random.randint(0,10)  # will draw a single int from given range\n",
    "np.random.randint(0,10,(3,3)) # will draw a 3x3 array from given range\n",
    "\n",
    "np.random.randn(4) # draw N samples for normal distribution centered around 0\n",
    "np.random.randn(4,4)"
   ]
  },
  {
   "cell_type": "markdown",
   "metadata": {
    "slideshow": {
     "slide_type": "subslide"
    }
   },
   "source": [
    "## NumPy | Dimensions"
   ]
  },
  {
   "cell_type": "code",
   "execution_count": 135,
   "metadata": {},
   "outputs": [
    {
     "name": "stdout",
     "output_type": "stream",
     "text": [
      "2\n",
      "(2, 3)\n",
      "6\n"
     ]
    }
   ],
   "source": [
    "np.array([1,2,3])\n",
    "a = np.array([[1,2,3], [4,5,6]])\n",
    "\n",
    "# ndarray.ndim\n",
    "# the number of axes (dimensions) of the array.\n",
    "print(a.ndim)\n",
    "\n",
    "# ndarray.shape\n",
    "# the dimensions of the array. This is a tuple of integers indicating the size of the array in each dimension.\n",
    "# For a matrix with n rows and m columns, shape will be (n,m). \n",
    "# The length of the shape tuple is therefore the number of axes, ndim.\n",
    "print(a.shape)\n",
    "\n",
    "# ndarray.size\n",
    "# the total number of elements of the array. This is equal to the product of the elements of shape.\n",
    "print(a.size)"
   ]
  },
  {
   "cell_type": "markdown",
   "metadata": {
    "slideshow": {
     "slide_type": "subslide"
    }
   },
   "source": [
    "## NumPy | Data types\n",
    "\n",
    "* NumPy arrays are homogeneous (elements of the same type)"
   ]
  },
  {
   "cell_type": "code",
   "execution_count": 136,
   "metadata": {
    "slideshow": {
     "slide_type": "fragment"
    }
   },
   "outputs": [
    {
     "name": "stdout",
     "output_type": "stream",
     "text": [
      "[1 2] int64\n",
      "[1. 2.] float64\n",
      "[1 2] int16\n"
     ]
    }
   ],
   "source": [
    "l = np.array([1,2])\n",
    "print(l, l.dtype)\n",
    "\n",
    "l = np.array([1.0,2.0])\n",
    "print(l, l.dtype)\n",
    "\n",
    "l = np.array([1.0,2.0], dtype=np.int16)\n",
    "print(l, l.dtype)"
   ]
  },
  {
   "cell_type": "markdown",
   "metadata": {
    "slideshow": {
     "slide_type": "subslide"
    }
   },
   "source": [
    "## NumPy | Indexing "
   ]
  },
  {
   "cell_type": "code",
   "execution_count": 137,
   "metadata": {},
   "outputs": [
    {
     "name": "stdout",
     "output_type": "stream",
     "text": [
      "[[0 1 2]\n",
      " [3 4 5]\n",
      " [6 7 8]]\n",
      "1\n",
      "1\n",
      "[1 4 7]\n",
      "[3 4 5]\n",
      "[[1 2]\n",
      " [4 5]]\n",
      "[[0 1 2]\n",
      " [3 4 5]\n",
      " [6 7 8]]\n"
     ]
    }
   ],
   "source": [
    "mat = np.arange(9).reshape(3, 3)\n",
    "print(mat)\n",
    "\n",
    "print(mat[0][1]) # while we can use syntax just like in python's list\n",
    "print(mat[0,1])  # a coma-seperated indices became a golden standard for getting a value out of numpy;s array\n",
    "print(mat[:,1])\n",
    "print(mat[1,:])\n",
    "print(mat[:2,1:])\n",
    "print(mat[:]) # to access all elements"
   ]
  },
  {
   "cell_type": "markdown",
   "metadata": {
    "slideshow": {
     "slide_type": "subslide"
    }
   },
   "source": [
    "## NumPy | Boolean Masking\n",
    "Boolean masking is one of my favorite party tricks that i like to use to impress people at the LUMS PDC.\n",
    "\n",
    "When we index arrays with integers we are explicitly providing the indices to pick. With boolean indices the approach is different; we explicitly choose which items in the array we want and which ones we don’t.\n",
    "\n",
    "The most natural way one can think of for boolean indexing is to use boolean arrays that have the same shape as the original array:\n",
    "\n",
    "```python\n",
    "mat = np.arange(12).reshape(3, 4)\n",
    "mat\n",
    "mat.shape\n",
    "b = mat>4\n",
    "b\n",
    "b.shape\n",
    "# now that we have the mask, numpy allows us to use it as an index:\n",
    "mat[b]\n",
    "# notice that the shape is different.\n",
    "mat[b].shape\n",
    "# When you apply the mask the information about the shape does not\n",
    "# get carried over to the filtered array, as in most cases you would end up with jagged arrays and numpy\n",
    "# does not support that kind of thing.\n",
    "\n",
    "# different forms of expressions can be used to create a mask,\n",
    "# for instance if we want to select all elements which multiplied by 2 are equal to the element to the 2nd power,\n",
    "# we can use:\n",
    "mat[ (mat*2) == (mat**2) ]\n",
    "\n",
    "# now, we can also inverse the mask by either changing the condition we defined above,\n",
    "# or we can simply use logical not:\n",
    "mat[np.logical_not(b)]\n",
    "# now that we have access to all elements smaller than 4, let's reset them to zero\n",
    "mat[np.logical_not(b)] = 0\n",
    "mat\n",
    "# but how did it happen, that we managed to assign a single value to multiple elements? Let's check it out on the next slide!\n",
    "```"
   ]
  },
  {
   "cell_type": "code",
   "execution_count": 140,
   "metadata": {
    "slideshow": {
     "slide_type": "fragment"
    }
   },
   "outputs": [
    {
     "name": "stdout",
     "output_type": "stream",
     "text": [
      "[[ 0  1  2  3]\n",
      " [ 4  5  6  7]\n",
      " [ 8  9 10 11]]\n",
      "[ 5  6  7  8  9 10 11]\n",
      "(7,)\n",
      "[0 2]\n",
      "[0 1 2 3 4]\n",
      "[[ 0  0  0  0]\n",
      " [ 0  5  6  7]\n",
      " [ 8  9 10 11]]\n"
     ]
    }
   ],
   "source": [
    "mat = np.arange(12).reshape(3,4)\n",
    "print(mat)\n",
    "\n",
    "b = mat > 4\n",
    "\n",
    "print(mat[b])\n",
    "\n",
    "print(mat[b].shape)\n",
    "\n",
    "print(mat[(mat*2) == (mat**2) ])\n",
    "\n",
    "print(mat[np.logical_not(b)])\n",
    "\n",
    "mat[np.logical_not(b)] = 0\n",
    "print(mat)"
   ]
  },
  {
   "cell_type": "markdown",
   "metadata": {
    "slideshow": {
     "slide_type": "subslide"
    }
   },
   "source": [
    "## NumPy | Broadcasting\n",
    "Arithmetic operations on arrays are usually done on corresponding elements. If two arrays are of exactly the same shape, then these operations are smoothly performed.\n",
    "\n",
    "The term broadcasting describes how numpy treats arrays with different shapes during arithmetic operations. Subject to certain constraints, the smaller array is “broadcast” across the larger array so that they have compatible shapes. See <a href=\"https://docs.scipy.org/doc/numpy-1.13.0/user/basics.broadcasting.html\">Broadcasting</a> for more information on numpy.\n",
    "\n",
    "```python\n",
    "a = np.arange(11)\n",
    "a\n",
    "b = a[:5]\n",
    "b\n",
    "b[:] = 999 # mind the colon - it means we grab all elements. Without using it we will simply convert variable b\n",
    "# from being a numpy array to being just an integer 999. This is the example of broadcasting. We take array and we\n",
    "# apply an operation to it - in this case assignment - using an object of a different shape. In this case the\n",
    "# 999 will be broadcasted into the array of the same shape as the object 'a', and will be then applied in 1-1 \n",
    "# matching between the indices of two array.\n",
    "b\n",
    "\n",
    "# i will point one issue here, with what we have just done. You see, to avioid being a memory hog when \n",
    "# dealing with larger matrices, numpy handles matrices as references, and when we grabbed subarray of 'a',\n",
    "# we did not create a new array, we just got few references to the first 5 objects. and as such if we display 'a':\n",
    "a\n",
    "# to avoid this issue we can use .copy() to create a new instance with same values\n",
    "b_copy = a[:5].copy()\n",
    "b_copy[:] = 33\n",
    "b_copy\n",
    "a\n",
    "\n",
    "# we can use broadcast to do all kinds of things: multiply, add, subtract, divide.\n",
    "# we can do it on all elements, a filtered subset or on rows or columns\n",
    "a = np.ones((3,3))\n",
    "a\n",
    "a * [1,2,3] \n",
    "a * [[1],[2],[3]]\n",
    "a * [1,2,3] * [[1], [2], [3]]\n",
    "# but we have to remember that that we can only use objects that can be scaled up to the other's size,\n",
    "# so things like same number of columns or rows are important\n",
    "# a * [2,2] # this will cause an error\n",
    "```"
   ]
  },
  {
   "cell_type": "code",
   "execution_count": 144,
   "metadata": {
    "slideshow": {
     "slide_type": "fragment"
    }
   },
   "outputs": [
    {
     "name": "stdout",
     "output_type": "stream",
     "text": [
      "[ 0  1  2  3  4  5  6  7  8  9 10]\n",
      "[0 1 2 3 4]\n",
      "[999 999 999 999 999]\n",
      "[999 999 999 999 999   5   6   7   8   9  10]\n",
      "[33 33 33 33 33]\n",
      "[999 999 999 999 999   5   6   7   8   9  10]\n",
      "[[1. 1. 1.]\n",
      " [1. 1. 1.]\n",
      " [1. 1. 1.]]\n",
      "[[1. 2. 3.]\n",
      " [1. 2. 3.]\n",
      " [1. 2. 3.]]\n",
      "[[1. 1. 1.]\n",
      " [2. 2. 2.]\n",
      " [3. 3. 3.]]\n",
      "[[1. 2. 3.]\n",
      " [2. 4. 6.]\n",
      " [3. 6. 9.]]\n"
     ]
    }
   ],
   "source": [
    "a = np.arange(11)\n",
    "print(a)\n",
    "b = a[:5]\n",
    "print(b)\n",
    "b[:] = 999 # mind the colon - it means we access all elements, without it we would just create new object 'b'\n",
    "print(b)\n",
    "\n",
    "# when we grabbed subarray of 'a',\n",
    "# we did not create a new array, we just got few references to the first 5 objects.\n",
    "print(a)\n",
    "# to avoid this issue we can use .copy() to create a new instance with same values\n",
    "b_copy = a[:5].copy()\n",
    "b_copy[:] = 33\n",
    "print(b_copy)\n",
    "print(a)\n",
    "\n",
    "a = np.ones((3,3))\n",
    "print(a)\n",
    "print(a * [1,2,3]) \n",
    "print(a * [[1],[2],[3]])\n",
    "print(a * [1,2,3] * [[1], [2], [3]])"
   ]
  },
  {
   "cell_type": "markdown",
   "metadata": {
    "slideshow": {
     "slide_type": "subslide"
    }
   },
   "source": [
    "## NumPy | Operations\n"
   ]
  },
  {
   "cell_type": "code",
   "execution_count": 146,
   "metadata": {
    "slideshow": {
     "slide_type": "fragment"
    }
   },
   "outputs": [
    {
     "name": "stdout",
     "output_type": "stream",
     "text": [
      "[[2 2]\n",
      " [2 1]]\n",
      "1\n",
      "2\n",
      "3\n",
      "0\n",
      "[[2 2]\n",
      " [2 2]]\n",
      "[[10 10]\n",
      " [10  5]]\n",
      "[[4 4]\n",
      " [4 2]]\n",
      "[[8 8]\n",
      " [6 6]]\n"
     ]
    }
   ],
   "source": [
    "np.random.seed(101)\n",
    "a = np.random.randint(1,3,(2,2))\n",
    "print(a)\n",
    "print(a.min())\n",
    "print(a.max())\n",
    "print(a.argmin())\n",
    "print(a.argmax())\n",
    "\n",
    "b = np.random.randint(1,3,(2,2))\n",
    "print(b)\n",
    "\n",
    "print(a*5)\n",
    "print(a*b) # it's an element wise multiplication\n",
    "print(a.dot(b))"
   ]
  },
  {
   "cell_type": "markdown",
   "metadata": {
    "slideshow": {
     "slide_type": "subslide"
    }
   },
   "source": [
    "# Python | Conditional Statements\n",
    "-------------\n",
    "\n",
    "### If statements\n",
    "\n",
    "The simplest sort of way of controlling execution is to decide whether or not\n",
    "a particular piece of code should be executed or not, based upon some\n",
    "condition.  This could include:\n",
    "\n",
    "* computing a particular value for a function in the special case where\n",
    "  `x = 0`\n",
    "\n",
    "* testing if an input is good, and only computing values if it is\n",
    "\n",
    "* executing different pieces of code depending on a command string read from a file\n",
    "  \n",
    "In each of these cases, we execute the code *if* some condition holds, so the\n",
    "statement in Python (and many other languages) that lets us do this is called\n",
    "the `if` statement.\n",
    "\n",
    "The simplest form of the `if` statement looks like this:"
   ]
  },
  {
   "cell_type": "code",
   "execution_count": 148,
   "metadata": {
    "slideshow": {
     "slide_type": "fragment"
    }
   },
   "outputs": [
    {
     "name": "stdout",
     "output_type": "stream",
     "text": [
      "Hey!\n",
      "x is positive\n"
     ]
    }
   ],
   "source": [
    "x = 0.5\n",
    "\n",
    "if x > 0:\n",
    "    print(\"Hey!\")\n",
    "    print(\"x is positive\")"
   ]
  },
  {
   "cell_type": "code",
   "execution_count": 149,
   "metadata": {
    "slideshow": {
     "slide_type": "fragment"
    }
   },
   "outputs": [
    {
     "name": "stdout",
     "output_type": "stream",
     "text": [
      "This isn't part of the block, and will always print.\n"
     ]
    }
   ],
   "source": [
    "x = -0.5\n",
    "\n",
    "if x > 0:\n",
    "    print(\"Hey!\")\n",
    "    print(\"x is positive\")\n",
    "    print(\"This is still part of the block\")\n",
    "print(\"This isn't part of the block, and will always print.\")"
   ]
  },
  {
   "cell_type": "code",
   "execution_count": 150,
   "metadata": {
    "slideshow": {
     "slide_type": "fragment"
    }
   },
   "outputs": [
    {
     "name": "stdout",
     "output_type": "stream",
     "text": [
      "x is zero\n"
     ]
    }
   ],
   "source": [
    "x = 0\n",
    "\n",
    "if x > 0:\n",
    "    print(\"x is positive\")\n",
    "elif x == 0:\n",
    "    print(\"x is zero\")\n",
    "else:\n",
    "    print(\"x is negative\")"
   ]
  },
  {
   "cell_type": "code",
   "execution_count": 151,
   "metadata": {
    "slideshow": {
     "slide_type": "fragment"
    }
   },
   "outputs": [
    {
     "name": "stdout",
     "output_type": "stream",
     "text": [
      "There is no first element.\n"
     ]
    }
   ],
   "source": [
    "# to check the elements in the list\n",
    "#mylist = [3, 1, 4, 1, 5, 9]\n",
    "mylist = []\n",
    "if mylist:\n",
    "    print(\"The first element is:\", mylist[0])\n",
    "else:\n",
    "    print(\"There is no first element.\")"
   ]
  },
  {
   "cell_type": "markdown",
   "metadata": {
    "slideshow": {
     "slide_type": "subslide"
    }
   },
   "source": [
    "# Python | Loops\n",
    "\n",
    "When programming, you want to be able to repeatedly execute chunks of code\n",
    "without having to manually duplicate the code.  Being able to repeat a set of\n",
    "instructions in a controlled manner is perhaps the most important function of any\n",
    "sort of automation, and being able to write code to execute something a\n",
    "million times as easily as writing code to execute something three times is\n",
    "important.\n",
    "\n",
    "Python implements a number of looping constructs, and in this lecture we'll\n",
    "discuss the `while` loop and the `for` loop.\n",
    "\n",
    "## While loop\n",
    "\n",
    "\n",
    "The `while` loop is the simplest form of loop in Python.  It is similar to an `if`\n",
    "statement, in that it evaluates a test which evaluates to `True` or `False`.\n",
    "Unlike the `if` statement, however, a `while` statement doesn't just execute the following\n",
    "block of code once, it executes it over and over, re-evaluating the test\n",
    "before each repetition.  When the test evaluates to `False`, the loop will stop\n",
    "executing, and execution will continue with the next section of code.  Just\n",
    "like the `if` statement, indentation determines which lines of code are\n",
    "associated with the `while` statement.\n",
    "\n",
    "A simple example of a `while` loop might look something like this:"
   ]
  },
  {
   "cell_type": "code",
   "execution_count": 152,
   "metadata": {
    "slideshow": {
     "slide_type": "fragment"
    }
   },
   "outputs": [
    {
     "name": "stdout",
     "output_type": "stream",
     "text": [
      "4950\n"
     ]
    }
   ],
   "source": [
    "i = 0\n",
    "total = 0\n",
    "while i < 100:\n",
    "    total += i\n",
    "    i += 1\n",
    "print(total)"
   ]
  },
  {
   "cell_type": "code",
   "execution_count": 154,
   "metadata": {
    "slideshow": {
     "slide_type": "fragment"
    }
   },
   "outputs": [
    {
     "name": "stdout",
     "output_type": "stream",
     "text": [
      "0\n",
      "1\n",
      "2\n",
      "3\n",
      "4\n"
     ]
    }
   ],
   "source": [
    "# 'For' loop\n",
    "for i in range(5):\n",
    "    print(i)"
   ]
  },
  {
   "cell_type": "code",
   "execution_count": 155,
   "metadata": {
    "slideshow": {
     "slide_type": "fragment"
    }
   },
   "outputs": [
    {
     "data": {
      "text/plain": [
       "['1', '2', '3', '4', '5']"
      ]
     },
     "execution_count": 155,
     "metadata": {},
     "output_type": "execute_result"
    }
   ],
   "source": [
    "line = '1 2 3 4 5'\n",
    "fields = line.split()\n",
    "fields"
   ]
  },
  {
   "cell_type": "code",
   "execution_count": 156,
   "metadata": {
    "slideshow": {
     "slide_type": "fragment"
    }
   },
   "outputs": [
    {
     "data": {
      "text/plain": [
       "15"
      ]
     },
     "execution_count": 156,
     "metadata": {},
     "output_type": "execute_result"
    }
   ],
   "source": [
    "#fields = [1,2,3,4,5]\n",
    "total = 0\n",
    "for field in fields:\n",
    "    total += int(field)\n",
    "total"
   ]
  },
  {
   "cell_type": "code",
   "execution_count": 157,
   "metadata": {
    "slideshow": {
     "slide_type": "fragment"
    }
   },
   "outputs": [
    {
     "data": {
      "text/plain": [
       "[1, 2, 3, 4, 5]"
      ]
     },
     "execution_count": 157,
     "metadata": {},
     "output_type": "execute_result"
    }
   ],
   "source": [
    "#List Comprehension: which is a compact way of writing many loops.\n",
    "numbers = [int(field) for field in fields]\n",
    "numbers "
   ]
  },
  {
   "cell_type": "code",
   "execution_count": 158,
   "metadata": {
    "slideshow": {
     "slide_type": "fragment"
    }
   },
   "outputs": [
    {
     "data": {
      "text/plain": [
       "15"
      ]
     },
     "execution_count": 158,
     "metadata": {},
     "output_type": "execute_result"
    }
   ],
   "source": [
    "sum(numbers)"
   ]
  },
  {
   "cell_type": "markdown",
   "metadata": {
    "slideshow": {
     "slide_type": "subslide"
    }
   },
   "source": [
    "### Break and Continue\n",
    "\n",
    "Both for and while statements can have the flow modified with the `break` and\n",
    "`continue` statements.\n",
    "\n",
    "If execution hits a `continue` statement, then the execution will jump\n",
    "immediately to the start of the next iteration of the loop.  This is useful if\n",
    "you want to skip occasional values:"
   ]
  },
  {
   "cell_type": "code",
   "execution_count": 159,
   "metadata": {
    "slideshow": {
     "slide_type": "fragment"
    }
   },
   "outputs": [
    {
     "name": "stdout",
     "output_type": "stream",
     "text": [
      "6\n",
      "4\n",
      "2\n"
     ]
    }
   ],
   "source": [
    "# Lets print even elements from the given list\n",
    "values = [7, 6, 4, 7, 19, 2, 1]\n",
    "\n",
    "for i in values:\n",
    "    if i % 2 != 0:\n",
    "        # skip odd numbers\n",
    "        continue\n",
    "    print(i)"
   ]
  },
  {
   "cell_type": "code",
   "execution_count": 160,
   "metadata": {
    "slideshow": {
     "slide_type": "fragment"
    }
   },
   "outputs": [
    {
     "name": "stdout",
     "output_type": "stream",
     "text": [
      "start\n",
      "process\n",
      "process\n",
      "process\n"
     ]
    }
   ],
   "source": [
    "# Print the elements of the list until you encounter 'stop'.\n",
    "command_list = ['start', 'process', 'process', 'process', 'stop', 'start', 'process', 'stop']\n",
    "\n",
    "while command_list:\n",
    "    command = command_list.pop(0)\n",
    "    if command == 'stop':\n",
    "        break\n",
    "    print(command)"
   ]
  },
  {
   "cell_type": "markdown",
   "metadata": {
    "slideshow": {
     "slide_type": "subslide"
    }
   },
   "source": [
    "# Python | Functions\n"
   ]
  },
  {
   "cell_type": "code",
   "execution_count": 163,
   "metadata": {},
   "outputs": [
    {
     "data": {
      "text/plain": [
       "9"
      ]
     },
     "execution_count": 163,
     "metadata": {},
     "output_type": "execute_result"
    }
   ],
   "source": [
    "def add(x,y):\n",
    "    \"\"\" Add two values\"\"\"\n",
    "    a = x+y\n",
    "    return a\n",
    "add(4,5)"
   ]
  },
  {
   "cell_type": "code",
   "execution_count": 161,
   "metadata": {
    "slideshow": {
     "slide_type": "subslide"
    }
   },
   "outputs": [
    {
     "data": {
      "text/plain": [
       "1"
      ]
     },
     "execution_count": 161,
     "metadata": {},
     "output_type": "execute_result"
    }
   ],
   "source": [
    "# Python Scope\n",
    "#x = 4\n",
    "\n",
    "def fun():\n",
    "    global x\n",
    "    x = x+1\n",
    "    return x\n",
    "\n",
    "fun()"
   ]
  },
  {
   "cell_type": "code",
   "execution_count": null,
   "metadata": {
    "slideshow": {
     "slide_type": "subslide"
    }
   },
   "outputs": [],
   "source": [
    "# Python Anonymous Functions\n",
    "def pow2(x):\n",
    "    return x**2\n",
    "\n",
    "print(pow2(2))\n",
    "\n",
    "pow2_lambda = lambda x: x**2\n",
    "print(pow2_lambda(2))\n",
    "\n",
    "l = list(range(10))\n",
    "print(l)\n",
    "\n",
    "print(list(filter(lambda x: (x%2==0), l)))\n",
    "print(list(map(lambda x: x**2, l))) "
   ]
  },
  {
   "cell_type": "code",
   "execution_count": 162,
   "metadata": {
    "slideshow": {
     "slide_type": "subslide"
    }
   },
   "outputs": [
    {
     "name": "stdout",
     "output_type": "stream",
     "text": [
      "1 2 3\n",
      "label\n",
      "['width', 'height', 'depth']\n",
      "16\n",
      "<my_label width=\"10\" height=\"20\" />\n"
     ]
    }
   ],
   "source": [
    "## Python | \\*args and \\*\\*kwargs\n",
    "a = [1,2,3]\n",
    "print(a[0], a[1], a[2])\n",
    "\n",
    "raw_data = ['label', 'width', 'height', 'depth']\n",
    "(label, *data) = raw_data\n",
    "\n",
    "print(label)\n",
    "print(data)\n",
    "\n",
    "from random import randint\n",
    "def roll(*args):\n",
    "    return sum(randint(1, die) for die in args)\n",
    "\n",
    "print(roll(6, 6, 6, 6))\n",
    "\n",
    "# **kwargs\n",
    "\n",
    "def data2xml(label, **attr):\n",
    "    attr_list = ['{}=\"{}\"'.format(name, value) for name, value in attr.items()]\n",
    "    print('<{} {} />'.format(label, ' '.join(attr_list)))\n",
    "\n",
    "data2xml('my_label', width=10, height=20)"
   ]
  },
  {
   "cell_type": "markdown",
   "metadata": {
    "slideshow": {
     "slide_type": "subslide"
    }
   },
   "source": [
    "# Python | Classes\n",
    "\n",
    "Now lets create a class. In Python, every class should derive from object. \n",
    "Our class will describe a person, with a name and an age. We will supply a constructor, and \n",
    "a method to get the full name."
   ]
  },
  {
   "cell_type": "code",
   "execution_count": 1,
   "metadata": {
    "slideshow": {
     "slide_type": "fragment"
    }
   },
   "outputs": [],
   "source": [
    "class Person(object):\n",
    "    # Initializing\n",
    "    def __init__(self, first, last, age):\n",
    "        self.first = first\n",
    "        self.last = last\n",
    "        self.age = age\n",
    "    \n",
    "    # Deleting (Calling destructor) \n",
    "    def __del__(self):\n",
    "        print('Destructor called, person deleted.')\n",
    "\n",
    "    def full_name(self):\n",
    "        return self.first + ' ' + self.last    "
   ]
  },
  {
   "cell_type": "code",
   "execution_count": 2,
   "metadata": {
    "slideshow": {
     "slide_type": "fragment"
    }
   },
   "outputs": [
    {
     "name": "stdout",
     "output_type": "stream",
     "text": [
      "Muhammad\n",
      "35\n",
      "Muhammad Kamran\n"
     ]
    }
   ],
   "source": [
    "# Now we can create an instance of a Person, and work with the attributes of the class.\n",
    "person = Person('Muhammad', 'Kamran', 35)\n",
    "print(person.first)\n",
    "print (person.age)\n",
    "print(person.full_name())"
   ]
  },
  {
   "cell_type": "code",
   "execution_count": 6,
   "metadata": {},
   "outputs": [
    {
     "name": "stdout",
     "output_type": "stream",
     "text": [
      "Destructor called, person deleted.\n"
     ]
    }
   ],
   "source": [
    "person.pet = pets\n",
    "person.pet\n",
    "# to delete the object explicitly\n",
    "del person"
   ]
  },
  {
   "cell_type": "markdown",
   "metadata": {
    "slideshow": {
     "slide_type": "subslide"
    }
   },
   "source": [
    "# Read test.txt file and perform the following task\n",
    "\n",
    "1) find count of unique words\n",
    "\n",
    "2) find unique words and their frequencies\n",
    "\n",
    "3) convert all text into lower case then find count of unique words\n",
    "\n",
    "4) convert all text into lower case and find unique words and their frequencies\n",
    "\n",
    "5) sort the words by frequencies and store the results in freq.txt file\n",
    "\n",
    "6) sort the words by alphabatical order and store results in words.txt file"
   ]
  }
 ],
 "metadata": {
  "celltoolbar": "Slideshow",
  "kernelspec": {
   "display_name": "Python 3",
   "language": "python",
   "name": "python3"
  },
  "language_info": {
   "codemirror_mode": {
    "name": "ipython",
    "version": 3
   },
   "file_extension": ".py",
   "mimetype": "text/x-python",
   "name": "python",
   "nbconvert_exporter": "python",
   "pygments_lexer": "ipython3",
   "version": "3.6.9"
  }
 },
 "nbformat": 4,
 "nbformat_minor": 2
}
